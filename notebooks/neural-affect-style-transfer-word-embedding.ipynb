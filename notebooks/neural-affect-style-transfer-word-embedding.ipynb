{
 "cells": [
  {
   "cell_type": "markdown",
   "metadata": {},
   "source": [
    "# Neural Affect Style Transfer"
   ]
  },
  {
   "cell_type": "code",
   "execution_count": null,
   "metadata": {
    "collapsed": true,
    "scrolled": false
   },
   "outputs": [],
   "source": [
    "import json\n",
    "\n",
    "from numpy import zeros, concatenate, asarray, ones, amax, argmax, squeeze\n",
    "from IPython.display import display, HTML\n",
    "from datetime import datetime"
   ]
  },
  {
   "cell_type": "code",
   "execution_count": null,
   "metadata": {
    "collapsed": true,
    "scrolled": false
   },
   "outputs": [],
   "source": [
    "def browser_alert(message):\n",
    "    display(HTML('<script type=\"text/javascript\">alert(\"' + message + '\");</script>'))\n",
    "    \n",
    "def browser_notify(message):\n",
    "    display(HTML('<script type=\"text/javascript\">var notification=new Notification(\"' + \\\n",
    "                 'Jupyter Notification\",{icon:\"http://blog.jupyter.org/content/' + \\\n",
    "                 'images/2015/02/jupyter-sq-text.png\",body:\"' + message + \\\n",
    "                 '\"});</script>'))"
   ]
  },
  {
   "cell_type": "code",
   "execution_count": null,
   "metadata": {
    "scrolled": false
   },
   "outputs": [],
   "source": [
    "browser_notify(\"test\")"
   ]
  },
  {
   "cell_type": "markdown",
   "metadata": {},
   "source": [
    "## Read Data"
   ]
  },
  {
   "cell_type": "code",
   "execution_count": null,
   "metadata": {
    "collapsed": true,
    "scrolled": false
   },
   "outputs": [],
   "source": [
    "dataset_path = \"/home/v2john/attr-reviews-dataset/dev.txt\""
   ]
  },
  {
   "cell_type": "code",
   "execution_count": null,
   "metadata": {
    "collapsed": true,
    "scrolled": false
   },
   "outputs": [],
   "source": [
    "all_texts = list()\n",
    "with open(dataset_path) as dataset_file:\n",
    "    for (line, text) in enumerate(dataset_file):\n",
    "        text = text.split('\\t')[3]\n",
    "        all_texts.append(text)\n",
    "        \n",
    "        if line == 4999:\n",
    "            break"
   ]
  },
  {
   "cell_type": "code",
   "execution_count": null,
   "metadata": {
    "scrolled": false
   },
   "outputs": [],
   "source": [
    "len(all_texts)"
   ]
  },
  {
   "cell_type": "markdown",
   "metadata": {
    "collapsed": true
   },
   "source": [
    "### Tokenize and build embeddings"
   ]
  },
  {
   "cell_type": "code",
   "execution_count": null,
   "metadata": {
    "scrolled": false
   },
   "outputs": [],
   "source": [
    "from keras.preprocessing.text import Tokenizer"
   ]
  },
  {
   "cell_type": "code",
   "execution_count": null,
   "metadata": {
    "collapsed": true,
    "scrolled": false
   },
   "outputs": [],
   "source": [
    "keras_tokenizer = Tokenizer(num_words=10000)"
   ]
  },
  {
   "cell_type": "code",
   "execution_count": null,
   "metadata": {
    "collapsed": true,
    "scrolled": false
   },
   "outputs": [],
   "source": [
    "keras_tokenizer.fit_on_texts(all_texts)"
   ]
  },
  {
   "cell_type": "code",
   "execution_count": null,
   "metadata": {
    "collapsed": true,
    "scrolled": false
   },
   "outputs": [],
   "source": [
    "VOCAB_SIZE = len(keras_tokenizer.word_index) + 1"
   ]
  },
  {
   "cell_type": "code",
   "execution_count": null,
   "metadata": {
    "scrolled": false
   },
   "outputs": [],
   "source": [
    "VOCAB_SIZE"
   ]
  },
  {
   "cell_type": "code",
   "execution_count": null,
   "metadata": {
    "collapsed": true,
    "scrolled": false
   },
   "outputs": [],
   "source": [
    "text_sequences = keras_tokenizer.texts_to_sequences(all_texts)"
   ]
  },
  {
   "cell_type": "code",
   "execution_count": null,
   "metadata": {
    "collapsed": true,
    "scrolled": false
   },
   "outputs": [],
   "source": [
    "text_sequences = asarray(text_sequences)"
   ]
  },
  {
   "cell_type": "code",
   "execution_count": null,
   "metadata": {
    "scrolled": false
   },
   "outputs": [],
   "source": [
    "text_sequences.shape"
   ]
  },
  {
   "cell_type": "markdown",
   "metadata": {},
   "source": [
    "## Build pre-trained embeddings"
   ]
  },
  {
   "cell_type": "code",
   "execution_count": null,
   "metadata": {
    "collapsed": true,
    "scrolled": false
   },
   "outputs": [],
   "source": [
    "from gensim.models.wrappers import fasttext\n",
    "from gensim.models.keyedvectors import KeyedVectors"
   ]
  },
  {
   "cell_type": "code",
   "execution_count": null,
   "metadata": {
    "collapsed": true,
    "scrolled": false
   },
   "outputs": [],
   "source": [
    "embeddings_path = \"/home/v2john/pretrained-embeddings/GoogleNews-vectors-negative300.bin.gz\""
   ]
  },
  {
   "cell_type": "code",
   "execution_count": null,
   "metadata": {
    "scrolled": false
   },
   "outputs": [],
   "source": [
    "w2v_model = KeyedVectors.load_word2vec_format(embeddings_path, binary=True, unicode_errors='ignore')"
   ]
  },
  {
   "cell_type": "code",
   "execution_count": null,
   "metadata": {
    "scrolled": false
   },
   "outputs": [],
   "source": [
    "browser_notify(\"Embeddings loaded\")"
   ]
  },
  {
   "cell_type": "code",
   "execution_count": null,
   "metadata": {
    "collapsed": true,
    "scrolled": false
   },
   "outputs": [],
   "source": [
    "EMBEDDING_DIM = squeeze(w2v_model.word_vec(\"the\").shape)"
   ]
  },
  {
   "cell_type": "code",
   "execution_count": null,
   "metadata": {
    "scrolled": false
   },
   "outputs": [],
   "source": [
    "EMBEDDING_DIM"
   ]
  },
  {
   "cell_type": "code",
   "execution_count": null,
   "metadata": {
    "collapsed": true,
    "scrolled": false
   },
   "outputs": [],
   "source": [
    "embeddings_matrix = zeros(shape=(len(keras_tokenizer.word_index) + 1, EMBEDDING_DIM))"
   ]
  },
  {
   "cell_type": "code",
   "execution_count": null,
   "metadata": {
    "collapsed": true,
    "scrolled": false
   },
   "outputs": [],
   "source": [
    "for word in keras_tokenizer.word_index:\n",
    "    embeddings_matrix[keras_tokenizer.word_index[word]] = w2v_model.word_vec(\"the\")"
   ]
  },
  {
   "cell_type": "code",
   "execution_count": null,
   "metadata": {
    "scrolled": false
   },
   "outputs": [],
   "source": [
    "embeddings_matrix.shape"
   ]
  },
  {
   "cell_type": "markdown",
   "metadata": {},
   "source": [
    "## Keras Model"
   ]
  },
  {
   "cell_type": "code",
   "execution_count": null,
   "metadata": {
    "collapsed": true,
    "scrolled": false
   },
   "outputs": [],
   "source": [
    "from keras import backend as K\n",
    "from keras.layers import Input, Dense, RepeatVector, LSTM, Conv1D, Masking, Embedding, Dropout, GRU\n",
    "from keras.layers.wrappers import TimeDistributed, Bidirectional\n",
    "from keras.models import Model\n",
    "from keras.losses import binary_crossentropy\n",
    "from keras.preprocessing.sequence import pad_sequences"
   ]
  },
  {
   "cell_type": "code",
   "execution_count": null,
   "metadata": {
    "collapsed": true,
    "scrolled": false
   },
   "outputs": [],
   "source": [
    "MAX_SEQUENCE_LENGTH = 20"
   ]
  },
  {
   "cell_type": "code",
   "execution_count": null,
   "metadata": {
    "collapsed": true,
    "scrolled": false
   },
   "outputs": [],
   "source": [
    "padded_text_sequences = \\\n",
    "    pad_sequences(text_sequences, maxlen=MAX_SEQUENCE_LENGTH, padding='post', \n",
    "                  truncating='post', value=0)"
   ]
  },
  {
   "cell_type": "code",
   "execution_count": null,
   "metadata": {
    "scrolled": false
   },
   "outputs": [],
   "source": [
    "padded_text_sequences.shape"
   ]
  },
  {
   "cell_type": "code",
   "execution_count": null,
   "metadata": {
    "collapsed": true,
    "scrolled": false
   },
   "outputs": [],
   "source": [
    "word_dict = dict()\n",
    "for word in keras_tokenizer.word_index:\n",
    "    rank = keras_tokenizer.word_index[word]\n",
    "    if rank <= VOCAB_SIZE:\n",
    "        word_dict[rank] = word"
   ]
  },
  {
   "cell_type": "code",
   "execution_count": null,
   "metadata": {
    "collapsed": true,
    "scrolled": false
   },
   "outputs": [],
   "source": [
    "x_train = zeros(shape=(len(padded_text_sequences), MAX_SEQUENCE_LENGTH, VOCAB_SIZE))"
   ]
  },
  {
   "cell_type": "code",
   "execution_count": null,
   "metadata": {
    "collapsed": true,
    "scrolled": false
   },
   "outputs": [],
   "source": [
    "for i in range(len(padded_text_sequences)):\n",
    "    for pos in range(len(padded_text_sequences[i])):\n",
    "        x_train[i][pos][padded_text_sequences[i][pos]] = 1"
   ]
  },
  {
   "cell_type": "code",
   "execution_count": null,
   "metadata": {
    "scrolled": false
   },
   "outputs": [],
   "source": [
    "x_train.shape"
   ]
  },
  {
   "cell_type": "code",
   "execution_count": null,
   "metadata": {
    "scrolled": false
   },
   "outputs": [],
   "source": [
    "main_input = Input(shape=padded_text_sequences.shape[1:], dtype='float32', name='main_input')\n",
    "print(main_input)\n",
    "\n",
    "embed_1 = Embedding(VOCAB_SIZE, EMBEDDING_DIM, weights=[embeddings_matrix],\n",
    "                    input_length=MAX_SEQUENCE_LENGTH, trainable=False, mask_zero=True) (main_input)\n",
    "print(embed_1)\n",
    "\n",
    "# lstm_1 = Bidirectional(LSTM(200, return_sequences=True, dropout=0.25, \n",
    "#                             recurrent_dropout=0.25, name='lstm_1')) (embed_1)\n",
    "# print(lstm_1)\n",
    "\n",
    "lstm_2 = Bidirectional(GRU(512, name='lstm_2'))(embed_1)\n",
    "print(lstm_2)\n",
    "\n",
    "repeat_1 = RepeatVector(MAX_SEQUENCE_LENGTH, name='repeat_1')(lstm_2)\n",
    "print(repeat_1)\n",
    "\n",
    "lstm_3 = Bidirectional(GRU(512, return_sequences=True, name='lstm_3'))(repeat_1)\n",
    "print(lstm_3)\n",
    "\n",
    "lstm_4 = Bidirectional(GRU(512, return_sequences=True, dropout=0.25, \n",
    "                            recurrent_dropout=0.25, name='lstm_4'))(lstm_3)\n",
    "print(lstm_4)\n",
    "\n",
    "lstm_5 = Bidirectional(GRU(512, return_sequences=True, dropout=0.25, \n",
    "                            recurrent_dropout=0.25, name='lstm_5'))(lstm_4)\n",
    "print(lstm_5)\n",
    "\n",
    "output = TimeDistributed(Dense(VOCAB_SIZE, activation=\"softmax\")) (lstm_5)\n",
    "print(output)"
   ]
  },
  {
   "cell_type": "code",
   "execution_count": null,
   "metadata": {
    "collapsed": true,
    "scrolled": false
   },
   "outputs": [],
   "source": [
    "model = Model(main_input, output)\n",
    "model.compile(optimizer='adam',\n",
    "              loss='categorical_crossentropy',\n",
    "              metrics=['accuracy'])"
   ]
  },
  {
   "cell_type": "code",
   "execution_count": null,
   "metadata": {
    "scrolled": true
   },
   "outputs": [],
   "source": [
    "model.fit(padded_text_sequences, x_train, batch_size=512, epochs=100, verbose=1)"
   ]
  },
  {
   "cell_type": "code",
   "execution_count": null,
   "metadata": {
    "collapsed": true,
    "scrolled": false
   },
   "outputs": [],
   "source": [
    "predictions = model.predict(padded_text_sequences)"
   ]
  },
  {
   "cell_type": "code",
   "execution_count": null,
   "metadata": {
    "scrolled": false
   },
   "outputs": [],
   "source": [
    "predictions.shape"
   ]
  },
  {
   "cell_type": "code",
   "execution_count": null,
   "metadata": {
    "scrolled": false
   },
   "outputs": [],
   "source": [
    "browser_notify(\"Model Trained\")"
   ]
  },
  {
   "cell_type": "code",
   "execution_count": null,
   "metadata": {
    "collapsed": true,
    "scrolled": false
   },
   "outputs": [],
   "source": [
    "MAX_PROB = 0.2"
   ]
  },
  {
   "cell_type": "code",
   "execution_count": null,
   "metadata": {
    "collapsed": true,
    "scrolled": false
   },
   "outputs": [],
   "source": [
    "word_dict = dict()\n",
    "for word in keras_tokenizer.word_index:\n",
    "    rank = keras_tokenizer.word_index[word]\n",
    "    if rank <= VOCAB_SIZE:\n",
    "        word_dict[rank] = word"
   ]
  },
  {
   "cell_type": "code",
   "execution_count": null,
   "metadata": {
    "collapsed": true,
    "scrolled": false
   },
   "outputs": [],
   "source": [
    "def sequence_to_str(sequence):\n",
    "    word_list = list()\n",
    "    for element in sequence:\n",
    "#         if amax(element) < MAX_PROB:\n",
    "#             continue        \n",
    "        index = argmax(element) + 1\n",
    "        word = word_dict[index]\n",
    "        word_list.append(word)\n",
    "        \n",
    "    return word_list"
   ]
  },
  {
   "cell_type": "code",
   "execution_count": null,
   "metadata": {
    "collapsed": true,
    "scrolled": false
   },
   "outputs": [],
   "source": [
    "predictions_file_path = \"/home/v2john/generated_sentences/\" + datetime.now().strftime('%Y-%m-%d-%H-%M-%S') + \".txt\""
   ]
  },
  {
   "cell_type": "code",
   "execution_count": null,
   "metadata": {
    "collapsed": true,
    "scrolled": false
   },
   "outputs": [],
   "source": [
    "with open(predictions_file_path, 'w') as predictions_file:\n",
    "    \n",
    "    for i in range(len(predictions)):\n",
    "        \n",
    "        predicted_word_list = sequence_to_str(predictions[i])\n",
    "        actual_len = len(all_texts[i].split())\n",
    "        \n",
    "        actual_sentence = all_texts[i].strip()\n",
    "        generated_sentence = (\" \".join(predicted_word_list[:actual_len])).strip()\n",
    "        \n",
    "        sent_dict = dict()\n",
    "        sent_dict[\"actual\"] = actual_sentence\n",
    "        sent_dict[\"generated\"] = generated_sentence\n",
    "        \n",
    "        predictions_file.write(json.dumps(sent_dict, sort_keys=True, indent=2, separators=(',', ': ')))\n",
    "        predictions_file.write(\"\\n\")"
   ]
  },
  {
   "cell_type": "code",
   "execution_count": null,
   "metadata": {
    "scrolled": false
   },
   "outputs": [],
   "source": [
    "browser_notify(\"Sentences generated\")"
   ]
  },
  {
   "cell_type": "code",
   "execution_count": null,
   "metadata": {
    "collapsed": true,
    "scrolled": false
   },
   "outputs": [],
   "source": []
  }
 ],
 "metadata": {
  "kernelspec": {
   "display_name": "Python 3",
   "language": "python",
   "name": "python3"
  },
  "language_info": {
   "codemirror_mode": {
    "name": "ipython",
    "version": 3
   },
   "file_extension": ".py",
   "mimetype": "text/x-python",
   "name": "python",
   "nbconvert_exporter": "python",
   "pygments_lexer": "ipython3",
   "version": "3.5.2"
  }
 },
 "nbformat": 4,
 "nbformat_minor": 2
}
